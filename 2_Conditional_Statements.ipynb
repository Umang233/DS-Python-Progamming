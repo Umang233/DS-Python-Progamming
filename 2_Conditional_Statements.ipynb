{
  "cells": [
    {
      "cell_type": "markdown",
      "metadata": {
        "id": "view-in-github",
        "colab_type": "text"
      },
      "source": [
        "<a href=\"https://colab.research.google.com/github/Umang233/DS-Python-Progamming/blob/main/2_Conditional_Statements.ipynb\" target=\"_parent\"><img src=\"https://colab.research.google.com/assets/colab-badge.svg\" alt=\"Open In Colab\"/></a>"
      ]
    },
    {
      "cell_type": "markdown",
      "id": "c73b4c39",
      "metadata": {
        "id": "c73b4c39"
      },
      "source": [
        "# User Input"
      ]
    },
    {
      "cell_type": "code",
      "execution_count": 18,
      "id": "1875c3f9",
      "metadata": {
        "ExecuteTime": {
          "end_time": "2023-03-23T04:41:47.679340Z",
          "start_time": "2023-03-23T04:41:47.669784Z"
        },
        "id": "1875c3f9"
      },
      "outputs": [],
      "source": [
        "a = 'UmangMantri'"
      ]
    },
    {
      "cell_type": "code",
      "execution_count": 2,
      "id": "12472a13",
      "metadata": {
        "ExecuteTime": {
          "end_time": "2023-03-23T04:41:56.007632Z",
          "start_time": "2023-03-23T04:41:54.393169Z"
        },
        "colab": {
          "base_uri": "https://localhost:8080/"
        },
        "id": "12472a13",
        "outputId": "c3b40eb6-b312-4a39-f661-8807b4952b10"
      },
      "outputs": [
        {
          "name": "stdout",
          "output_type": "stream",
          "text": [
            "Umang\n"
          ]
        }
      ],
      "source": [
        "a = input()"
      ]
    },
    {
      "cell_type": "code",
      "execution_count": 3,
      "id": "9eea4525",
      "metadata": {
        "ExecuteTime": {
          "end_time": "2023-03-23T04:41:58.162242Z",
          "start_time": "2023-03-23T04:41:58.149792Z"
        },
        "colab": {
          "base_uri": "https://localhost:8080/",
          "height": 36
        },
        "id": "9eea4525",
        "outputId": "10f744b9-ef3b-4e2a-bbf1-71cabab65fce"
      },
      "outputs": [
        {
          "output_type": "execute_result",
          "data": {
            "text/plain": [
              "'Umang'"
            ],
            "application/vnd.google.colaboratory.intrinsic+json": {
              "type": "string"
            }
          },
          "metadata": {},
          "execution_count": 3
        }
      ],
      "source": [
        "a"
      ]
    },
    {
      "cell_type": "code",
      "execution_count": 4,
      "id": "c5bef25f",
      "metadata": {
        "ExecuteTime": {
          "end_time": "2023-03-23T04:40:48.768736Z",
          "start_time": "2023-03-23T04:40:38.343394Z"
        },
        "colab": {
          "base_uri": "https://localhost:8080/"
        },
        "id": "c5bef25f",
        "outputId": "1ac71254-38fc-4fac-c067-df64a9ce968c"
      },
      "outputs": [
        {
          "name": "stdout",
          "output_type": "stream",
          "text": [
            "enter your age: 23\n"
          ]
        }
      ],
      "source": [
        "age = input(\"enter your age: \")"
      ]
    },
    {
      "cell_type": "code",
      "execution_count": 5,
      "id": "7d128238",
      "metadata": {
        "ExecuteTime": {
          "end_time": "2023-03-23T04:40:56.658361Z",
          "start_time": "2023-03-23T04:40:56.637297Z"
        },
        "colab": {
          "base_uri": "https://localhost:8080/",
          "height": 36
        },
        "id": "7d128238",
        "outputId": "1e6244d8-5c74-4ea5-8a0b-541e52aa2aeb"
      },
      "outputs": [
        {
          "output_type": "execute_result",
          "data": {
            "text/plain": [
              "'23'"
            ],
            "application/vnd.google.colaboratory.intrinsic+json": {
              "type": "string"
            }
          },
          "metadata": {},
          "execution_count": 5
        }
      ],
      "source": [
        "age"
      ]
    },
    {
      "cell_type": "code",
      "execution_count": 6,
      "id": "ffb85285",
      "metadata": {
        "ExecuteTime": {
          "end_time": "2023-03-23T04:42:16.300641Z",
          "start_time": "2023-03-23T04:42:16.292112Z"
        },
        "colab": {
          "base_uri": "https://localhost:8080/"
        },
        "id": "ffb85285",
        "outputId": "d5fec1d7-1101-4e8d-a7ca-6f05f8185948"
      },
      "outputs": [
        {
          "output_type": "execute_result",
          "data": {
            "text/plain": [
              "str"
            ]
          },
          "metadata": {},
          "execution_count": 6
        }
      ],
      "source": [
        "type(age)"
      ]
    },
    {
      "cell_type": "code",
      "execution_count": 7,
      "id": "d1dfc76d",
      "metadata": {
        "ExecuteTime": {
          "end_time": "2023-03-23T04:43:58.900421Z",
          "start_time": "2023-03-23T04:43:56.794905Z"
        },
        "colab": {
          "base_uri": "https://localhost:8080/"
        },
        "id": "d1dfc76d",
        "outputId": "4a223869-92cc-4f85-c78b-c958280f2b3d"
      },
      "outputs": [
        {
          "name": "stdout",
          "output_type": "stream",
          "text": [
            "Enter the age: 23\n"
          ]
        }
      ],
      "source": [
        "x = int(input('Enter the age: '))"
      ]
    },
    {
      "cell_type": "code",
      "execution_count": 8,
      "id": "66690d51",
      "metadata": {
        "ExecuteTime": {
          "end_time": "2023-03-23T04:44:02.329062Z",
          "start_time": "2023-03-23T04:44:02.317378Z"
        },
        "colab": {
          "base_uri": "https://localhost:8080/"
        },
        "id": "66690d51",
        "outputId": "76fe989d-7695-499a-8021-5834af77a2b3"
      },
      "outputs": [
        {
          "output_type": "execute_result",
          "data": {
            "text/plain": [
              "23"
            ]
          },
          "metadata": {},
          "execution_count": 8
        }
      ],
      "source": [
        "x"
      ]
    },
    {
      "cell_type": "code",
      "execution_count": 9,
      "id": "868d5e17",
      "metadata": {
        "ExecuteTime": {
          "end_time": "2023-03-23T04:44:09.418248Z",
          "start_time": "2023-03-23T04:44:09.408448Z"
        },
        "colab": {
          "base_uri": "https://localhost:8080/"
        },
        "id": "868d5e17",
        "outputId": "c38fd40c-5c5b-4e18-f8a3-8b2005531f74"
      },
      "outputs": [
        {
          "output_type": "execute_result",
          "data": {
            "text/plain": [
              "int"
            ]
          },
          "metadata": {},
          "execution_count": 9
        }
      ],
      "source": [
        "type(x)"
      ]
    },
    {
      "cell_type": "code",
      "execution_count": 10,
      "id": "6d866ddb",
      "metadata": {
        "ExecuteTime": {
          "end_time": "2023-03-23T04:45:03.316896Z",
          "start_time": "2023-03-23T04:45:00.107730Z"
        },
        "colab": {
          "base_uri": "https://localhost:8080/"
        },
        "id": "6d866ddb",
        "outputId": "3424782d-9884-417c-da67-231ca7688eb2"
      },
      "outputs": [
        {
          "name": "stdout",
          "output_type": "stream",
          "text": [
            "Temperature: 33\n"
          ]
        }
      ],
      "source": [
        "temp = float(input('Temperature: '))"
      ]
    },
    {
      "cell_type": "code",
      "execution_count": 11,
      "id": "e46d0203",
      "metadata": {
        "ExecuteTime": {
          "end_time": "2023-03-23T04:45:08.394114Z",
          "start_time": "2023-03-23T04:45:08.383579Z"
        },
        "colab": {
          "base_uri": "https://localhost:8080/"
        },
        "id": "e46d0203",
        "outputId": "09a5cb33-6c9d-47a0-dcd4-da69054e68ee"
      },
      "outputs": [
        {
          "output_type": "execute_result",
          "data": {
            "text/plain": [
              "float"
            ]
          },
          "metadata": {},
          "execution_count": 11
        }
      ],
      "source": [
        "type(temp)"
      ]
    },
    {
      "cell_type": "markdown",
      "id": "c5ad61e8",
      "metadata": {
        "id": "c5ad61e8"
      },
      "source": [
        "# Conditional Statements\n",
        "- if\n",
        "- else\n",
        "- elif"
      ]
    },
    {
      "cell_type": "markdown",
      "id": "d773bccd",
      "metadata": {
        "id": "d773bccd"
      },
      "source": [
        "- if"
      ]
    },
    {
      "cell_type": "code",
      "execution_count": 12,
      "id": "2e294728",
      "metadata": {
        "ExecuteTime": {
          "end_time": "2023-03-23T04:55:10.650082Z",
          "start_time": "2023-03-23T04:54:52.088195Z"
        },
        "colab": {
          "base_uri": "https://localhost:8080/"
        },
        "id": "2e294728",
        "outputId": "ce403d2a-7654-4613-83f1-1e3931ba2d25"
      },
      "outputs": [
        {
          "name": "stdout",
          "output_type": "stream",
          "text": [
            "Enter your emailumangmantri233@gmail.com\n"
          ]
        }
      ],
      "source": [
        "email = 'abc@gmail.com'\n",
        "\n",
        "user = input('Enter your email')\n",
        "\n",
        "if user == email:\n",
        "    print('Access Granted')"
      ]
    },
    {
      "cell_type": "code",
      "execution_count": 13,
      "id": "b0139f6b",
      "metadata": {
        "ExecuteTime": {
          "end_time": "2023-03-23T04:59:23.612750Z",
          "start_time": "2023-03-23T04:59:20.614886Z"
        },
        "colab": {
          "base_uri": "https://localhost:8080/"
        },
        "id": "b0139f6b",
        "outputId": "f3cec3dc-b170-4305-b7ec-5134cfcde54d"
      },
      "outputs": [
        {
          "output_type": "stream",
          "name": "stdout",
          "text": [
            "Player name: virat\n",
            "He is not virat\n"
          ]
        }
      ],
      "source": [
        "#Check whether the player is Virat kolhi\n",
        "\n",
        "name = input('Player name: ')\n",
        "\n",
        "if name == 'Virat Kohli':\n",
        "    print('Success')\n",
        "else:\n",
        "    print('He is not virat')"
      ]
    },
    {
      "cell_type": "code",
      "execution_count": 14,
      "id": "02ab90d3",
      "metadata": {
        "ExecuteTime": {
          "end_time": "2023-03-23T05:04:18.449155Z",
          "start_time": "2023-03-23T05:04:15.642223Z"
        },
        "colab": {
          "base_uri": "https://localhost:8080/"
        },
        "id": "02ab90d3",
        "outputId": "77524d4e-daf2-40a6-8b02-fb04672764da"
      },
      "outputs": [
        {
          "output_type": "stream",
          "name": "stdout",
          "text": [
            "Enter any number: 2\n",
            "Number is even\n"
          ]
        }
      ],
      "source": [
        "#Check whether the number is odd or even\n",
        "\n",
        "num = int(input('Enter any number: '))\n",
        "\n",
        "if num%2==0:\n",
        "    print('Number is even')\n",
        "else:\n",
        "    print('Number is odd')"
      ]
    },
    {
      "cell_type": "code",
      "execution_count": 15,
      "id": "f7b02a40",
      "metadata": {
        "ExecuteTime": {
          "end_time": "2023-03-23T05:08:54.269904Z",
          "start_time": "2023-03-23T05:08:50.536509Z"
        },
        "colab": {
          "base_uri": "https://localhost:8080/"
        },
        "id": "f7b02a40",
        "outputId": "0d3329fb-4f03-4704-b9ba-bf87a8b899d4"
      },
      "outputs": [
        {
          "output_type": "stream",
          "name": "stdout",
          "text": [
            "Enter your age: 23\n",
            "Eligible\n"
          ]
        }
      ],
      "source": [
        "#Write python program which tell whether the person is eligible to do vote.\n",
        "\n",
        "age = int(input('Enter your age: '))\n",
        "\n",
        "if age >= 18:\n",
        "    print('Eligible')\n",
        "else:\n",
        "    print('Not eligible. You need to wait for more ',18-age,'years')"
      ]
    },
    {
      "cell_type": "markdown",
      "id": "7a3b62aa",
      "metadata": {
        "ExecuteTime": {
          "end_time": "2023-03-04T05:09:22.046040Z",
          "start_time": "2023-03-04T05:09:22.032172Z"
        },
        "id": "7a3b62aa"
      },
      "source": [
        "- elif"
      ]
    },
    {
      "cell_type": "code",
      "execution_count": 16,
      "id": "8563d6ed",
      "metadata": {
        "ExecuteTime": {
          "end_time": "2023-03-23T05:11:38.862098Z",
          "start_time": "2023-03-23T05:11:36.042600Z"
        },
        "colab": {
          "base_uri": "https://localhost:8080/"
        },
        "id": "8563d6ed",
        "outputId": "0b9cb8d6-3ef9-4d23-aaf3-6c3db1ac7171"
      },
      "outputs": [
        {
          "output_type": "stream",
          "name": "stdout",
          "text": [
            "Enter number: 2\n",
            "Number is positive\n"
          ]
        }
      ],
      "source": [
        "#Check whether the number is positive/nero\n",
        "num = int(input('Enter number: '))\n",
        "\n",
        "if num > 0:\n",
        "    print('Number is positive')\n",
        "elif num == 0:\n",
        "    print('Number is zero')\n",
        "else:\n",
        "    print('Number is negative')"
      ]
    },
    {
      "cell_type": "code",
      "execution_count": 17,
      "id": "f21c4a2f",
      "metadata": {
        "ExecuteTime": {
          "end_time": "2023-03-23T05:14:59.744572Z",
          "start_time": "2023-03-23T05:14:56.247998Z"
        },
        "colab": {
          "base_uri": "https://localhost:8080/"
        },
        "id": "f21c4a2f",
        "outputId": "d2c74e2a-7047-439b-fdad-dd4dbdbd59d5"
      },
      "outputs": [
        {
          "output_type": "stream",
          "name": "stdout",
          "text": [
            "enter your marks: 80\n",
            "B\n"
          ]
        }
      ],
      "source": [
        "# Give grades based on percentages\n",
        "#A : marks >85\n",
        "#B : marks < 85 and >70\n",
        "#C : makrs <70 and > 60\n",
        "#D \n",
        "\n",
        "\n",
        "marks = int(input(\"enter your marks: \"))\n",
        "\n",
        "if marks >=85:\n",
        "    print('A')\n",
        "elif (marks<85) and (marks>70):\n",
        "    print('B')\n",
        "elif (marks < 70) and (marks >60):\n",
        "    print('C')\n",
        "else:\n",
        "    print('D')"
      ]
    },
    {
      "cell_type": "markdown",
      "id": "72b1ca58",
      "metadata": {
        "id": "72b1ca58"
      },
      "source": [
        "# In-Class Exercise:\n",
        "\n",
        "1. Write a program which will print Century if the player has made more than 100 runs else it should write how many more runs he needs to have to complete the century.\n",
        "2. Write a program to check the number is one digited, two digited and three digited.\n",
        "3. Write a program to check whether the user has entered number 99 or not.\""
      ]
    },
    {
      "cell_type": "code",
      "source": [
        "\"\"\"Write a program which will print Century if the player has made more than 100 runs else it should write how many more runs he needs to have to complete the century.\"\"\"\n",
        "\n",
        "age = int(input('Enter your Runs: '))\n",
        "\n",
        "if age >= 100:\n",
        "    print('Century')\n",
        "else:\n",
        "    print('Not Century.Better Luck Next Time')"
      ],
      "metadata": {
        "colab": {
          "base_uri": "https://localhost:8080/"
        },
        "id": "n76v8HMTsttU",
        "outputId": "18a5242d-0116-4615-efdd-2beb5c23d3ae"
      },
      "id": "n76v8HMTsttU",
      "execution_count": 19,
      "outputs": [
        {
          "output_type": "stream",
          "name": "stdout",
          "text": [
            "Enter your Runs: 101\n",
            "Century\n"
          ]
        }
      ]
    },
    {
      "cell_type": "code",
      "source": [
        "#Write a program to check the number is one digited, two digited and three digited.\n",
        "\n",
        "Number = int(input(\"enter your Number: \"))\n",
        "\n",
        "if Number <=9:\n",
        "    print('Single Digit')\n",
        "elif (Number<100) and (Number>9):\n",
        "    print('Two Digit')\n",
        "else:\n",
        "    print('Three Digit')"
      ],
      "metadata": {
        "colab": {
          "base_uri": "https://localhost:8080/"
        },
        "id": "rRXVPIZwtN60",
        "outputId": "05317428-c624-4d4e-da35-f9a5f6e89483"
      },
      "id": "rRXVPIZwtN60",
      "execution_count": 35,
      "outputs": [
        {
          "output_type": "stream",
          "name": "stdout",
          "text": [
            "enter your Number: 100\n",
            "Three Digit\n"
          ]
        }
      ]
    },
    {
      "cell_type": "code",
      "source": [
        "#Write a program to check whether the user has entered number 99 or not.\"\n",
        "num = int(input('Enter number: '))\n",
        "\n",
        "if num == 99:\n",
        "    print('Number is 99')\n",
        "else:\n",
        "    print('Number is  not 99')"
      ],
      "metadata": {
        "colab": {
          "base_uri": "https://localhost:8080/"
        },
        "id": "Rjqr3ILpuRcF",
        "outputId": "40cb922d-1589-40dd-f194-8da706432dfd"
      },
      "id": "Rjqr3ILpuRcF",
      "execution_count": 37,
      "outputs": [
        {
          "output_type": "stream",
          "name": "stdout",
          "text": [
            "Enter number: 10\n",
            "Number is  not 99\n"
          ]
        }
      ]
    }
  ],
  "metadata": {
    "kernelspec": {
      "display_name": "Python 3 (ipykernel)",
      "language": "python",
      "name": "python3"
    },
    "language_info": {
      "codemirror_mode": {
        "name": "ipython",
        "version": 3
      },
      "file_extension": ".py",
      "mimetype": "text/x-python",
      "name": "python",
      "nbconvert_exporter": "python",
      "pygments_lexer": "ipython3",
      "version": "3.9.13"
    },
    "colab": {
      "provenance": [],
      "include_colab_link": true
    }
  },
  "nbformat": 4,
  "nbformat_minor": 5
}